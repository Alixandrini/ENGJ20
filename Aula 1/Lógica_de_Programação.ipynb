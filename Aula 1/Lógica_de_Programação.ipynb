{
  "cells": [
    {
      "cell_type": "markdown",
      "metadata": {
        "id": "aDVkTeh3cAH9"
      },
      "source": [
        "# LÓGICA DE PROGRAMAÇÃO COM PYTHON\n",
        "\n"
      ]
    },
    {
      "cell_type": "markdown",
      "metadata": {
        "id": "45Gol7tecR8w"
      },
      "source": [
        "Material de apoio"
      ]
    },
    {
      "cell_type": "markdown",
      "metadata": {
        "id": "4j6Xsl7Nc2gc"
      },
      "source": [
        "### **Mais exemplos de MarkDown**"
      ]
    },
    {
      "cell_type": "markdown",
      "metadata": {
        "id": "u60YOrgcc7Bb"
      },
      "source": [
        "Podemos escrever textos basicos que falam sobre a teoria. Mas se quisermos dar mais enfase podemos usar citações:\n",
        "> IMPORTANTE: Esse texto fica destacado.\n",
        ">> MAIS IMPORTANTE: Esse texto fica mais destacado ainda."
      ]
    },
    {
      "cell_type": "markdown",
      "metadata": {
        "id": "fdPlcB0IdGdm"
      },
      "source": [
        "Você está explicando para que serve o comando `print` do Python"
      ]
    },
    {
      "cell_type": "markdown",
      "metadata": {
        "id": "SuUW9-KOdSLW"
      },
      "source": [
        "\n",
        "\n",
        "1.   Item da lista\n",
        "2.   Item da lista\n",
        "\n"
      ]
    },
    {
      "cell_type": "markdown",
      "metadata": {
        "id": "vxxkUdkUdT9X"
      },
      "source": [
        "\n",
        "\n",
        "*   Item da lista\n",
        "*   Item da lista\n",
        "\n"
      ]
    },
    {
      "cell_type": "markdown",
      "metadata": {
        "id": "VAn7MewvdWS5"
      },
      "source": [
        "Estou explicando um conteudo\n",
        "> é por causa disso aqui\n",
        ">- banana\n",
        ">- pera\n",
        ">- maçã"
      ]
    },
    {
      "cell_type": "markdown",
      "metadata": {
        "id": "QipsUiKTdjfz"
      },
      "source": [
        "Eu encontrei isso aqui no site do [Joviano](https://joviano.com/)"
      ]
    },
    {
      "cell_type": "markdown",
      "metadata": {
        "id": "6Kdrhsh6cvne"
      },
      "source": [
        "### **Operações Matemáticas**"
      ]
    },
    {
      "cell_type": "markdown",
      "metadata": {
        "id": "0GskZ7PJlLBY"
      },
      "source": []
    },
    {
      "cell_type": "code",
      "execution_count": null,
      "metadata": {
        "colab": {
          "base_uri": "https://localhost:8080/"
        },
        "id": "ttEkq00pY07K",
        "outputId": "be109e5d-4265-44cb-c223-6e76a122afb3"
      },
      "outputs": [
        {
          "data": {
            "text/plain": [
              "5"
            ]
          },
          "execution_count": 136,
          "metadata": {},
          "output_type": "execute_result"
        }
      ],
      "source": [
        "3+2"
      ]
    },
    {
      "cell_type": "code",
      "execution_count": null,
      "metadata": {
        "colab": {
          "base_uri": "https://localhost:8080/"
        },
        "id": "vpqH2TJ5ZUrh",
        "outputId": "a9e18bff-500f-429b-e4f5-6820add2aa50"
      },
      "outputs": [
        {
          "data": {
            "text/plain": [
              "1"
            ]
          },
          "execution_count": 137,
          "metadata": {},
          "output_type": "execute_result"
        }
      ],
      "source": [
        "3-2"
      ]
    },
    {
      "cell_type": "code",
      "execution_count": null,
      "metadata": {
        "colab": {
          "base_uri": "https://localhost:8080/"
        },
        "id": "j8f9uqmHZb6J",
        "outputId": "5aa56229-cd9e-4728-f0f5-4542b1f9eb05"
      },
      "outputs": [
        {
          "data": {
            "text/plain": [
              "1.5"
            ]
          },
          "execution_count": 138,
          "metadata": {},
          "output_type": "execute_result"
        }
      ],
      "source": [
        "3/2"
      ]
    },
    {
      "cell_type": "code",
      "execution_count": null,
      "metadata": {
        "colab": {
          "base_uri": "https://localhost:8080/"
        },
        "id": "uW9J4gffZem-",
        "outputId": "3e665279-7a40-4abb-fee4-34da7eac5887"
      },
      "outputs": [
        {
          "data": {
            "text/plain": [
              "6"
            ]
          },
          "execution_count": 139,
          "metadata": {},
          "output_type": "execute_result"
        }
      ],
      "source": [
        "3*2"
      ]
    },
    {
      "cell_type": "code",
      "execution_count": null,
      "metadata": {
        "colab": {
          "base_uri": "https://localhost:8080/"
        },
        "id": "F27Hnfp8ZyJ1",
        "outputId": "c5ffe6e6-c640-4ede-846d-d45b52e6279e"
      },
      "outputs": [
        {
          "data": {
            "text/plain": [
              "3"
            ]
          },
          "execution_count": 140,
          "metadata": {},
          "output_type": "execute_result"
        }
      ],
      "source": [
        "11//3"
      ]
    },
    {
      "cell_type": "code",
      "execution_count": null,
      "metadata": {
        "colab": {
          "base_uri": "https://localhost:8080/"
        },
        "id": "ytos4IA-Z0mt",
        "outputId": "2c7845c3-e22c-4ad2-f010-02e4810450eb"
      },
      "outputs": [
        {
          "data": {
            "text/plain": [
              "2"
            ]
          },
          "execution_count": 141,
          "metadata": {},
          "output_type": "execute_result"
        }
      ],
      "source": [
        "11 % 3"
      ]
    },
    {
      "cell_type": "code",
      "execution_count": null,
      "metadata": {
        "colab": {
          "base_uri": "https://localhost:8080/"
        },
        "id": "84oKTl65Z-iU",
        "outputId": "4dcb22dd-1912-4f8d-ed53-7107a3ada640"
      },
      "outputs": [
        {
          "data": {
            "text/plain": [
              "9"
            ]
          },
          "execution_count": 142,
          "metadata": {},
          "output_type": "execute_result"
        }
      ],
      "source": [
        "3 ** 2"
      ]
    },
    {
      "cell_type": "markdown",
      "metadata": {
        "id": "_HXxhpLqnRxD"
      },
      "source": [
        "### **Variáveis**"
      ]
    },
    {
      "cell_type": "markdown",
      "metadata": {
        "id": "P58Yhy7Xnnhj"
      },
      "source": [
        "Calculando na mão"
      ]
    },
    {
      "cell_type": "code",
      "execution_count": null,
      "metadata": {
        "colab": {
          "base_uri": "https://localhost:8080/"
        },
        "id": "4oKhBml2nTuu",
        "outputId": "5e7189a6-13c8-4f67-e91b-b414b5321b4d"
      },
      "outputs": [
        {
          "data": {
            "text/plain": [
              "9"
            ]
          },
          "execution_count": 143,
          "metadata": {},
          "output_type": "execute_result"
        }
      ],
      "source": [
        "7+2"
      ]
    },
    {
      "cell_type": "code",
      "execution_count": null,
      "metadata": {
        "colab": {
          "base_uri": "https://localhost:8080/"
        },
        "id": "XJDYsP0fnaDf",
        "outputId": "3aad1885-2d4b-4ea7-b335-01ec53fffd68"
      },
      "outputs": [
        {
          "data": {
            "text/plain": [
              "81"
            ]
          },
          "execution_count": 144,
          "metadata": {},
          "output_type": "execute_result"
        }
      ],
      "source": [
        "9**2"
      ]
    },
    {
      "cell_type": "code",
      "execution_count": null,
      "metadata": {
        "colab": {
          "base_uri": "https://localhost:8080/"
        },
        "id": "wCujUWRPnbOe",
        "outputId": "c2695730-5bf2-4026-cfd6-d04a62062d43"
      },
      "outputs": [
        {
          "data": {
            "text/plain": [
              "40.5"
            ]
          },
          "execution_count": 145,
          "metadata": {},
          "output_type": "execute_result"
        }
      ],
      "source": [
        "81/2"
      ]
    },
    {
      "cell_type": "markdown",
      "metadata": {
        "id": "6K1VuaDQnp6X"
      },
      "source": [
        "Usando variáveis"
      ]
    },
    {
      "cell_type": "code",
      "execution_count": null,
      "metadata": {
        "id": "YlBl7iicncpu"
      },
      "outputs": [],
      "source": [
        "x = 5"
      ]
    },
    {
      "cell_type": "code",
      "execution_count": null,
      "metadata": {
        "id": "drCDqxPanwvv"
      },
      "outputs": [],
      "source": [
        "x = x ** 2"
      ]
    },
    {
      "cell_type": "code",
      "execution_count": null,
      "metadata": {
        "id": "ppV0Z4yunzKu"
      },
      "outputs": [],
      "source": [
        "x = x  / 2"
      ]
    },
    {
      "cell_type": "code",
      "execution_count": null,
      "metadata": {
        "colab": {
          "base_uri": "https://localhost:8080/"
        },
        "id": "HLayntrSn3b_",
        "outputId": "09b86084-ff7d-4ede-92cf-b08e2ee7be32"
      },
      "outputs": [
        {
          "data": {
            "text/plain": [
              "12.5"
            ]
          },
          "execution_count": 149,
          "metadata": {},
          "output_type": "execute_result"
        }
      ],
      "source": [
        "x"
      ]
    },
    {
      "cell_type": "markdown",
      "metadata": {
        "id": "5pbNrPdbooX6"
      },
      "source": [
        "Somatório dos angulos internos"
      ]
    },
    {
      "cell_type": "code",
      "execution_count": null,
      "metadata": {
        "id": "2Z9cI9xpoAdn"
      },
      "outputs": [],
      "source": [
        "def SomaAngulos(numero):\n",
        "  x = numero\n",
        "  S = (x-2)*180\n",
        "  print('O somatório dos angulos internos é: ',S)"
      ]
    },
    {
      "cell_type": "code",
      "execution_count": null,
      "metadata": {
        "colab": {
          "base_uri": "https://localhost:8080/"
        },
        "id": "YastZ37mpTrZ",
        "outputId": "e8349231-dfee-4370-a022-f386f233b30b"
      },
      "outputs": [
        {
          "output_type": "stream",
          "name": "stdout",
          "text": [
            "O somatório dos angulos internos é:  3060\n"
          ]
        }
      ],
      "source": [
        "SomaAngulos(19)"
      ]
    },
    {
      "cell_type": "markdown",
      "metadata": {
        "id": "1zrg1Ma6qvLA"
      },
      "source": [
        "### **Tipos de conteúdos das Variáveis**"
      ]
    },
    {
      "cell_type": "markdown",
      "metadata": {
        "id": "DK1iUbb3u5po"
      },
      "source": [
        "#### Definições Iniciais"
      ]
    },
    {
      "cell_type": "markdown",
      "metadata": {
        "id": "heUbICJBuE0W"
      },
      "source": [
        "Conteudo do tipo:\n",
        "\n",
        "\n",
        "*   valores numéricos (inteiros, com virgula)\n",
        "*   valores textuais (string)\n",
        "\n"
      ]
    },
    {
      "cell_type": "markdown",
      "metadata": {
        "id": "E1uo2Xo3uR7Q"
      },
      "source": [
        "Outros tipos de conteúdo que podem ter em uma variável:\n",
        "\n",
        "\n",
        "*   listas (tipo a lista de compras)\n",
        "*   tabelas\n",
        "*   2D / 3D\n",
        "*   dicionarios (elementos com chave e valor)\n",
        "*   funções (def penalzão)\n",
        "*   ... outras\n",
        "\n",
        "\n",
        "\n"
      ]
    },
    {
      "cell_type": "markdown",
      "metadata": {
        "id": "8Erjq9ONu-Hq"
      },
      "source": [
        "#### Exemplos"
      ]
    },
    {
      "cell_type": "code",
      "execution_count": null,
      "metadata": {
        "colab": {
          "base_uri": "https://localhost:8080/"
        },
        "id": "MIK2RDDCuPgl",
        "outputId": "d880bc47-2b69-43b1-b4b8-f08cd6a84c67"
      },
      "outputs": [
        {
          "data": {
            "text/plain": [
              "8"
            ]
          },
          "execution_count": 262,
          "metadata": {},
          "output_type": "execute_result"
        }
      ],
      "source": [
        "3+5"
      ]
    },
    {
      "cell_type": "code",
      "execution_count": null,
      "metadata": {
        "colab": {
          "base_uri": "https://localhost:8080/"
        },
        "id": "xiiNs_6vvCqV",
        "outputId": "f3b6accd-6d20-4a03-f201-2efdf230328b"
      },
      "outputs": [
        {
          "data": {
            "text/plain": [
              "8.4"
            ]
          },
          "execution_count": 263,
          "metadata": {},
          "output_type": "execute_result"
        }
      ],
      "source": [
        "3.4 + int(\"5\")"
      ]
    },
    {
      "cell_type": "code",
      "execution_count": null,
      "metadata": {
        "id": "5EKmj1SZvJ5w"
      },
      "outputs": [],
      "source": [
        "nome = 'joviano 88'"
      ]
    },
    {
      "cell_type": "markdown",
      "metadata": {
        "id": "W6oL9pSbwJmF"
      },
      "source": [
        "### **Interação com usuário**"
      ]
    },
    {
      "cell_type": "markdown",
      "metadata": {
        "id": "_7ABvuOrwWOi"
      },
      "source": [
        "vou querer perguntar um numero ao meu usuário, e imprimir na tela o dobro dele"
      ]
    },
    {
      "cell_type": "code",
      "execution_count": null,
      "metadata": {
        "colab": {
          "base_uri": "https://localhost:8080/"
        },
        "id": "Cx5NMTjZwM-C",
        "outputId": "b81df950-6925-4f15-cebf-7a1c18669ba2"
      },
      "outputs": [
        {
          "data": {
            "text/plain": [
              "25"
            ]
          },
          "execution_count": 155,
          "metadata": {},
          "output_type": "execute_result"
        }
      ],
      "source": [
        "x = 5\n",
        "x = x ** 2\n",
        "x"
      ]
    },
    {
      "cell_type": "code",
      "execution_count": null,
      "metadata": {
        "colab": {
          "base_uri": "https://localhost:8080/"
        },
        "id": "j0Rd6Wu6wgwW",
        "outputId": "1eb7ba76-7137-41d9-a401-ebbef8f27f77"
      },
      "outputs": [
        {
          "name": "stdout",
          "output_type": "stream",
          "text": [
            "Digite o número desejado: 7\n",
            "o dobro do valor é:  49\n"
          ]
        }
      ],
      "source": [
        "y = input('Digite o número desejado: ')\n",
        "calculo = int(y) ** 2\n",
        "print('o dobro do valor é: ',calculo)"
      ]
    },
    {
      "cell_type": "code",
      "execution_count": null,
      "metadata": {
        "colab": {
          "base_uri": "https://localhost:8080/"
        },
        "id": "xHNJ9sm6wrY-",
        "outputId": "7988a097-98b0-4e6e-aa64-c3b14fa2471d"
      },
      "outputs": [
        {
          "data": {
            "text/plain": [
              "str"
            ]
          },
          "execution_count": 157,
          "metadata": {},
          "output_type": "execute_result"
        }
      ],
      "source": [
        "type(y)"
      ]
    },
    {
      "cell_type": "code",
      "execution_count": null,
      "metadata": {
        "colab": {
          "base_uri": "https://localhost:8080/"
        },
        "id": "dLD8nZ2cw0a2",
        "outputId": "d524a69b-7f6e-4188-cb2a-78e503d6ca57"
      },
      "outputs": [
        {
          "data": {
            "text/plain": [
              "int"
            ]
          },
          "execution_count": 158,
          "metadata": {},
          "output_type": "execute_result"
        }
      ],
      "source": [
        "type(calculo)"
      ]
    },
    {
      "cell_type": "markdown",
      "metadata": {
        "id": "suE2mnlTy1I1"
      },
      "source": [
        "### **Variaveis Agrupadoras [nativas no Python]**"
      ]
    },
    {
      "cell_type": "markdown",
      "metadata": {
        "id": "UTB8MyRyzhYA"
      },
      "source": [
        "Acesse esse [link aqui](https://www.w3schools.com/python/python_datatypes.asp)"
      ]
    },
    {
      "cell_type": "markdown",
      "metadata": {
        "id": "WL6igGMF0Hkn"
      },
      "source": [
        "Principais tipos de agrupadores nativos:\n",
        "\n",
        "\n",
        "*   lista\n",
        "*   dicionario\n",
        "*   tuplas\n",
        "\n"
      ]
    },
    {
      "cell_type": "markdown",
      "metadata": {
        "id": "E_4J8ys60RE7"
      },
      "source": [
        "#### Listas"
      ]
    },
    {
      "cell_type": "code",
      "execution_count": null,
      "metadata": {
        "id": "YBrkOJiVw-V-"
      },
      "outputs": [],
      "source": [
        "lista_de_compras = ['banana', 'mação', 'pera', 'tomate', 'abacate']"
      ]
    },
    {
      "cell_type": "code",
      "execution_count": null,
      "metadata": {
        "colab": {
          "base_uri": "https://localhost:8080/"
        },
        "id": "0zsK7wi8zxdx",
        "outputId": "4cffede2-4c8d-4216-f769-f0d5d8f2fb24"
      },
      "outputs": [
        {
          "data": {
            "text/plain": [
              "['banana', 'mação', 'pera', 'tomate', 'abacate']"
            ]
          },
          "execution_count": 161,
          "metadata": {},
          "output_type": "execute_result"
        }
      ],
      "source": [
        "lista_de_compras"
      ]
    },
    {
      "cell_type": "code",
      "execution_count": null,
      "metadata": {
        "id": "k7ZEEUI2z1j5"
      },
      "outputs": [],
      "source": [
        "lista_aleatoria = [1,5,7,'banana', 9, \"8\", penalzao]"
      ]
    },
    {
      "cell_type": "code",
      "execution_count": null,
      "metadata": {
        "colab": {
          "base_uri": "https://localhost:8080/"
        },
        "id": "RvSW6CHTz_oh",
        "outputId": "3958fbdf-2392-4fae-d9a3-fe94a38e68e5"
      },
      "outputs": [
        {
          "data": {
            "text/plain": [
              "[1, 5, 7, 'banana', 9, '8', <function __main__.penalzao(numero)>]"
            ]
          },
          "execution_count": 163,
          "metadata": {},
          "output_type": "execute_result"
        }
      ],
      "source": [
        "lista_aleatoria"
      ]
    },
    {
      "cell_type": "code",
      "execution_count": null,
      "metadata": {
        "colab": {
          "base_uri": "https://localhost:8080/"
        },
        "id": "jJa99fTj0C7Q",
        "outputId": "eed127bb-2fbe-431f-cc96-89873eeb6b35"
      },
      "outputs": [
        {
          "data": {
            "text/plain": [
              "['banana', 'mação', 'pera', 'tomate', 'abacate', 'sabão de côco']"
            ]
          },
          "execution_count": 164,
          "metadata": {},
          "output_type": "execute_result"
        }
      ],
      "source": [
        "lista_de_compras.append('sabão de côco')\n",
        "lista_de_compras"
      ]
    },
    {
      "cell_type": "code",
      "execution_count": null,
      "metadata": {
        "colab": {
          "base_uri": "https://localhost:8080/"
        },
        "id": "Xlz2L6400hES",
        "outputId": "768d5d5b-e9a8-4be6-fa8d-a115fab3bd6a"
      },
      "outputs": [
        {
          "data": {
            "text/plain": [
              "['banana', 'pera', 'tomate', 'abacate', 'sabão de côco']"
            ]
          },
          "execution_count": 165,
          "metadata": {},
          "output_type": "execute_result"
        }
      ],
      "source": [
        "lista_de_compras.remove('mação')\n",
        "lista_de_compras"
      ]
    },
    {
      "cell_type": "markdown",
      "metadata": {
        "id": "4GtYAd4V0tJx"
      },
      "source": [
        "[clique aqui](https://www.w3schools.com/python/python_lists_methods.asp) e acesse os métodos de lista"
      ]
    },
    {
      "cell_type": "markdown",
      "metadata": {
        "id": "kSSFbaGT1HLl"
      },
      "source": [
        "Observação: vamos fazer loop na lista nas próximas aulas"
      ]
    },
    {
      "cell_type": "markdown",
      "metadata": {
        "id": "GtJ3A29a1E_-"
      },
      "source": [
        "#### Dicionarios"
      ]
    },
    {
      "cell_type": "code",
      "execution_count": null,
      "metadata": {
        "id": "dH2BpP1J0pkj"
      },
      "outputs": [],
      "source": [
        "aluno = {\"nome\": \"joviano\", \"cursos\":\"20\", \"idade\":25}"
      ]
    },
    {
      "cell_type": "code",
      "execution_count": null,
      "metadata": {
        "colab": {
          "base_uri": "https://localhost:8080/"
        },
        "id": "vhO0fdBG03yC",
        "outputId": "e7e0f7fb-c2d7-451b-af1f-2f578a60a963"
      },
      "outputs": [
        {
          "data": {
            "text/plain": [
              "{'nome': 'joviano', 'cursos': '20', 'idade': 25}"
            ]
          },
          "execution_count": 170,
          "metadata": {},
          "output_type": "execute_result"
        }
      ],
      "source": [
        "aluno"
      ]
    },
    {
      "cell_type": "code",
      "execution_count": null,
      "metadata": {
        "colab": {
          "base_uri": "https://localhost:8080/"
        },
        "id": "7zvR6Bjx08US",
        "outputId": "ba508c8d-69c3-4450-f631-7db7c0a79c0a"
      },
      "outputs": [
        {
          "data": {
            "text/plain": [
              "dict_keys(['nome', 'cursos', 'idade'])"
            ]
          },
          "execution_count": 172,
          "metadata": {},
          "output_type": "execute_result"
        }
      ],
      "source": [
        "aluno.keys()"
      ]
    },
    {
      "cell_type": "code",
      "execution_count": null,
      "metadata": {
        "colab": {
          "base_uri": "https://localhost:8080/",
          "height": 35
        },
        "id": "3VPscWFw1iyz",
        "outputId": "cddf51aa-cbb4-4fa6-95c0-08b378f0f9b2"
      },
      "outputs": [
        {
          "data": {
            "application/vnd.google.colaboratory.intrinsic+json": {
              "type": "string"
            },
            "text/plain": [
              "'joviano'"
            ]
          },
          "execution_count": 173,
          "metadata": {},
          "output_type": "execute_result"
        }
      ],
      "source": [
        "aluno.get('nome')"
      ]
    },
    {
      "cell_type": "code",
      "execution_count": null,
      "metadata": {
        "id": "bPYCCgIs1p58"
      },
      "outputs": [],
      "source": [
        "aluno.get('altura')"
      ]
    },
    {
      "cell_type": "code",
      "execution_count": null,
      "metadata": {
        "id": "IB57EHTT1sns"
      },
      "outputs": [],
      "source": [
        "aluno['altura'] = 1.8"
      ]
    },
    {
      "cell_type": "code",
      "execution_count": null,
      "metadata": {
        "colab": {
          "base_uri": "https://localhost:8080/"
        },
        "id": "YShSnArT1-c8",
        "outputId": "1142df03-1396-487c-b372-d99df2298d63"
      },
      "outputs": [
        {
          "data": {
            "text/plain": [
              "{'nome': 'joviano', 'cursos': '20', 'idade': 25, 'altura': 1.8}"
            ]
          },
          "execution_count": 178,
          "metadata": {},
          "output_type": "execute_result"
        }
      ],
      "source": [
        "aluno"
      ]
    },
    {
      "cell_type": "markdown",
      "metadata": {
        "id": "rcv2nSHT2-7n"
      },
      "source": [
        "### **CONDICIONAIS [famoso SE]**"
      ]
    },
    {
      "cell_type": "markdown",
      "metadata": {
        "id": "r-5g5Tcc_oq1"
      },
      "source": [
        "#### Condicionais Simples"
      ]
    },
    {
      "cell_type": "code",
      "execution_count": null,
      "metadata": {
        "id": "aj5Xuftl-A7G"
      },
      "outputs": [],
      "source": [
        "nota = 5"
      ]
    },
    {
      "cell_type": "code",
      "execution_count": null,
      "metadata": {
        "colab": {
          "base_uri": "https://localhost:8080/"
        },
        "id": "VEv2XjMt-Dum",
        "outputId": "d53573e0-cb88-47bf-cc27-839fc61d6755"
      },
      "outputs": [
        {
          "name": "stdout",
          "output_type": "stream",
          "text": [
            "passou :)\n",
            "o numero calculado é:  12.5\n",
            "sobrou 0 pontos\n",
            "finalizei\n"
          ]
        }
      ],
      "source": [
        "limite = 5\n",
        "folga = nota - limite\n",
        "\n",
        "if nota >= limite:\n",
        "  print('passou :)')\n",
        "  penalzao(nota)\n",
        "  print('sobrou',folga,'pontos')\n",
        "else:\n",
        "  print('reprovou :(')\n",
        "  print('faltou',abs(folga),'pontos')\n",
        "\n",
        "print('finalizei')"
      ]
    },
    {
      "cell_type": "markdown",
      "metadata": {
        "id": "V58ODOVd_tM4"
      },
      "source": [
        "#### Condicionais Executando Gravação"
      ]
    },
    {
      "cell_type": "markdown",
      "metadata": {
        "id": "WuRFsErDBwdO"
      },
      "source": [
        "Função para gravar o texto em um txt"
      ]
    },
    {
      "cell_type": "code",
      "execution_count": null,
      "metadata": {
        "id": "K3P_LRd6-nfG"
      },
      "outputs": [],
      "source": [
        "def registrar_dados(nome_aluno,nota,arquivo_gravar):\n",
        "\n",
        "  with open(arquivo_gravar, 'a') as txt:\n",
        "    texto_gravar_na_linha = nome_aluno +', '+ str(nota) +'\\n'\n",
        "    txt.write(texto_gravar_na_linha)"
      ]
    },
    {
      "cell_type": "markdown",
      "metadata": {
        "id": "Ke81SRCoBzYm"
      },
      "source": [
        "Implementação do texto na condicional"
      ]
    },
    {
      "cell_type": "code",
      "execution_count": null,
      "metadata": {
        "colab": {
          "base_uri": "https://localhost:8080/"
        },
        "id": "jTuxU7f1-SJF",
        "outputId": "7b6a3d44-aa54-4ed3-84da-be7bcb4d7160"
      },
      "outputs": [
        {
          "name": "stdout",
          "output_type": "stream",
          "text": [
            "avaliando aluno pedro\n",
            "reprovou :(\n",
            "faltou 1 pontos\n",
            "finalizei\n"
          ]
        }
      ],
      "source": [
        "aluno = {'nome':'pedro', 'nota':4}\n",
        "\n",
        "nota = aluno.get('nota')\n",
        "aluno_nome = aluno.get('nome')\n",
        "\n",
        "limite = 5\n",
        "folga = nota - limite\n",
        "\n",
        "print('avaliando aluno', aluno_nome)\n",
        "\n",
        "if nota >= limite:\n",
        "  print('passou :)')\n",
        "  print('sobrou',folga,'pontos')\n",
        "  registrar_dados(aluno_nome, nota, 'apr.txt')\n",
        "\n",
        "else:\n",
        "  print('reprovou :(')\n",
        "  print('faltou',abs(folga),'pontos')\n",
        "  registrar_dados(aluno_nome, nota, 'rep.txt')\n",
        "\n",
        "print('finalizei')"
      ]
    },
    {
      "cell_type": "markdown",
      "metadata": {
        "id": "elbrOwQ_Dz0F"
      },
      "source": [
        "#### Condicionais Compostas"
      ]
    },
    {
      "cell_type": "code",
      "execution_count": null,
      "metadata": {
        "id": "hcyf0T-oEI1Q"
      },
      "outputs": [],
      "source": [
        "carteira = 5\n",
        "pizza = 50\n",
        "x_salada = 10"
      ]
    },
    {
      "cell_type": "code",
      "execution_count": null,
      "metadata": {
        "colab": {
          "base_uri": "https://localhost:8080/"
        },
        "id": "droIykTnFzOv",
        "outputId": "f4d9a3f6-e324-45c9-9d2e-963d20f2ff42"
      },
      "outputs": [
        {
          "name": "stdout",
          "output_type": "stream",
          "text": [
            "vou ter que passar só com água mesmo\n"
          ]
        }
      ],
      "source": [
        "if carteira >= pizza:\n",
        "  sobra = carteira - pizza\n",
        "  print('vou comer PIZZA e ainda vai me sobrar', sobra, 'reais')\n",
        "\n",
        "elif carteira >= x_salada:\n",
        "  sobra = carteira - x_salada\n",
        "  print('vou comer X SALADA e ainda vai me sobrar', sobra, 'reais')\n",
        "\n",
        "else:\n",
        "  print('vou ter que passar só com água mesmo')"
      ]
    },
    {
      "cell_type": "code",
      "execution_count": null,
      "metadata": {
        "colab": {
          "base_uri": "https://localhost:8080/"
        },
        "id": "aYz73cyuG1eS",
        "outputId": "40dda994-51d8-4a9a-8386-242e6179ee3d"
      },
      "outputs": [
        {
          "data": {
            "text/plain": [
              "True"
            ]
          },
          "execution_count": 256,
          "metadata": {},
          "output_type": "execute_result"
        }
      ],
      "source": [
        "x = 5\n",
        "y = 10\n",
        "\n",
        "x > 2 or y < 9"
      ]
    },
    {
      "cell_type": "code",
      "execution_count": null,
      "metadata": {
        "colab": {
          "base_uri": "https://localhost:8080/"
        },
        "id": "-0CeMSa5F-v9",
        "outputId": "0b0686da-5d83-440d-9b15-e34d1479ac18"
      },
      "outputs": [
        {
          "name": "stdout",
          "output_type": "stream",
          "text": [
            "essa pessoa nao pode jogar\n"
          ]
        }
      ],
      "source": [
        "idade = 20\n",
        "sexo = 'f'\n",
        "\n",
        "if sexo == 'm' and idade >= 7 and idade <= 13:\n",
        "  if idade <= 10:\n",
        "    print('time 1 M')\n",
        "  else:\n",
        "    print('time 2 M')\n",
        "\n",
        "elif sexo == 'f' and idade >= 9 and idade <= 15:\n",
        "  if idade <= 11:\n",
        "    print('time 1 M')\n",
        "  else:\n",
        "    print('time 2 M')\n",
        "\n",
        "else:\n",
        "  print('essa pessoa nao pode jogar')"
      ]
    },
    {
      "cell_type": "markdown",
      "metadata": {
        "id": "xOw2TzP4JhQR"
      },
      "source": [
        "### **LOOPS**"
      ]
    },
    {
      "cell_type": "markdown",
      "metadata": {
        "id": "bY5KRVdWKE3q"
      },
      "source": [
        "nos temos 2 tipos de loops\n",
        "\n",
        "\n",
        "1.   for (para cada)\n",
        "2.   while (enquanto)\n",
        "\n"
      ]
    },
    {
      "cell_type": "code",
      "execution_count": null,
      "metadata": {
        "colab": {
          "base_uri": "https://localhost:8080/"
        },
        "id": "bkT1II7kG6HX",
        "outputId": "3303221e-57c0-4147-bb9e-457dbabb1088"
      },
      "outputs": [
        {
          "data": {
            "text/plain": [
              "['banana', 'pera', 'tomate', 'abacate', 'sabão de côco']"
            ]
          },
          "execution_count": 273,
          "metadata": {},
          "output_type": "execute_result"
        }
      ],
      "source": [
        "lista_de_compras"
      ]
    },
    {
      "cell_type": "code",
      "execution_count": null,
      "metadata": {
        "colab": {
          "base_uri": "https://localhost:8080/"
        },
        "id": "mlJyo9ceKlFU",
        "outputId": "440235ad-2b43-4d40-e718-501843f1e498"
      },
      "outputs": [
        {
          "name": "stdout",
          "output_type": "stream",
          "text": [
            "colocar na sacola o produto: banana\n",
            "ok, vamos procurar o próximo\n",
            "------------------------------\n",
            "colocar na sacola o produto: pera\n",
            "ok, vamos procurar o próximo\n",
            "------------------------------\n",
            "colocar na sacola o produto: tomate\n",
            "ok, vamos procurar o próximo\n",
            "------------------------------\n",
            "colocar na sacola o produto: abacate\n",
            "ok, vamos procurar o próximo\n",
            "------------------------------\n",
            "colocar na sacola o produto: sabão de côco\n",
            "ok, vamos procurar o próximo\n",
            "------------------------------\n"
          ]
        }
      ],
      "source": [
        "for item in lista_de_compras:\n",
        "  print('colocar na sacola o produto:',item)\n",
        "  print('ok, vamos procurar o próximo')\n",
        "  print('-'*30)"
      ]
    },
    {
      "cell_type": "code",
      "execution_count": null,
      "metadata": {
        "colab": {
          "base_uri": "https://localhost:8080/"
        },
        "id": "CTOXneHAMYkw",
        "outputId": "50f9261a-c8eb-45f1-df14-5c8d9a0355ac"
      },
      "outputs": [
        {
          "name": "stdout",
          "output_type": "stream",
          "text": [
            "a multiplicação de 6 x 1 = 6\n",
            "----------\n",
            "a multiplicação de 6 x 2 = 12\n",
            "----------\n",
            "a multiplicação de 6 x 3 = 18\n",
            "----------\n",
            "a multiplicação de 6 x 4 = 24\n",
            "----------\n",
            "a multiplicação de 6 x 5 = 30\n",
            "----------\n",
            "a multiplicação de 6 x 6 = 36\n",
            "----------\n",
            "a multiplicação de 6 x 7 = 42\n",
            "----------\n",
            "a multiplicação de 6 x 8 = 48\n",
            "----------\n",
            "a multiplicação de 6 x 9 = 54\n",
            "----------\n",
            "a multiplicação de 6 x 10 = 60\n",
            "----------\n"
          ]
        }
      ],
      "source": [
        "base = 6\n",
        "\n",
        "for item in [1,2,3,4,5,6,7,8,9,10]:\n",
        "  print(f'a multiplicação de {base} x {item} = {item * base}')\n",
        "  print('-'*10)"
      ]
    },
    {
      "cell_type": "code",
      "execution_count": null,
      "metadata": {
        "colab": {
          "base_uri": "https://localhost:8080/"
        },
        "id": "h6ZNcwJXM59v",
        "outputId": "c457ea8a-3ae3-4630-ce61-708656bc0257"
      },
      "outputs": [
        {
          "name": "stdout",
          "output_type": "stream",
          "text": [
            "a multiplicação de 6 x 1 = 6\n",
            "----------\n",
            "a multiplicação de 6 x 2 = 12\n",
            "----------\n",
            "a multiplicação de 6 x 3 = 18\n",
            "----------\n",
            "a multiplicação de 6 x 4 = 24\n",
            "----------\n",
            "a multiplicação de 6 x 5 = 30\n",
            "----------\n",
            "a multiplicação de 6 x 6 = 36\n",
            "----------\n",
            "a multiplicação de 6 x 7 = 42\n",
            "----------\n",
            "a multiplicação de 6 x 8 = 48\n",
            "----------\n",
            "a multiplicação de 6 x 9 = 54\n",
            "----------\n",
            "a multiplicação de 6 x 10 = 60\n",
            "----------\n"
          ]
        }
      ],
      "source": [
        "base = 6\n",
        "\n",
        "for item in range(10):\n",
        "  multiplicador = item + 1\n",
        "  print(f'a multiplicação de {base} x {multiplicador} = {(multiplicador) * base}')\n",
        "  print('-'*10)"
      ]
    },
    {
      "cell_type": "code",
      "execution_count": null,
      "metadata": {
        "colab": {
          "base_uri": "https://localhost:8080/"
        },
        "id": "xiVtt6TqNfPN",
        "outputId": "18e215cb-8a98-4167-f856-1a3f69bd971c"
      },
      "outputs": [
        {
          "name": "stdout",
          "output_type": "stream",
          "text": [
            "a multiplicação de 6 x 1 = 6\n",
            "a multiplicação de 6 x 2 = 12\n",
            "a multiplicação de 6 x 3 = 18\n",
            "a multiplicação de 6 x 4 = 24\n",
            "a multiplicação de 6 x 5 = 30\n",
            "a multiplicação de 6 x 6 = 36\n",
            "a multiplicação de 6 x 7 = 42\n",
            "a multiplicação de 6 x 8 = 48\n",
            "a multiplicação de 6 x 9 = 54\n",
            "a multiplicação de 6 x 10 = 60\n"
          ]
        }
      ],
      "source": [
        "base = 6\n",
        "\n",
        "for item in range(10):\n",
        "  multiplicador = item + 1\n",
        "  txt = f'a multiplicação de {base} x {multiplicador} = {(multiplicador) * base}'\n",
        "  print(txt)\n",
        "  registrar_dados(txt, '','taboada.txt')"
      ]
    },
    {
      "cell_type": "code",
      "execution_count": null,
      "metadata": {
        "colab": {
          "base_uri": "https://localhost:8080/"
        },
        "id": "jokedRvrOCg-",
        "outputId": "d3856d96-f24f-49d9-9b1e-bd31ae4ed707"
      },
      "outputs": [
        {
          "name": "stdout",
          "output_type": "stream",
          "text": [
            "a multiplicação de 5 x 1 = 5\n",
            "a multiplicação de 5 x 2 = 10\n",
            "a multiplicação de 5 x 3 = 15\n",
            "a multiplicação de 5 x 4 = 20\n",
            "a multiplicação de 5 x 5 = 25\n",
            "a multiplicação de 5 x 6 = 30\n",
            "a multiplicação de 5 x 7 = 35\n",
            "a multiplicação de 5 x 8 = 40\n",
            "a multiplicação de 5 x 9 = 45\n",
            "a multiplicação de 5 x 10 = 50\n"
          ]
        }
      ],
      "source": [
        "base = 5\n",
        "qtd = 10\n",
        "\n",
        "inicio = 1\n",
        "\n",
        "while inicio <= qtd:\n",
        "\n",
        "  txt = f'a multiplicação de {base} x {inicio} = {inicio * base}'\n",
        "  print(txt)\n",
        "\n",
        "  #inicio = inicio + 1\n",
        "  inicio += 1"
      ]
    },
    {
      "cell_type": "markdown",
      "metadata": {
        "id": "harWWhKaPQ3E"
      },
      "source": [
        "A espera da senha"
      ]
    },
    {
      "cell_type": "code",
      "execution_count": null,
      "metadata": {
        "colab": {
          "base_uri": "https://localhost:8080/"
        },
        "id": "LRzHbaniPFiQ",
        "outputId": "b70cf1d7-6529-4b6d-9cbf-6b884370722f"
      },
      "outputs": [
        {
          "name": "stdout",
          "output_type": "stream",
          "text": [
            "Digite sua senha: a\n",
            "senha errada | tente novamente\n",
            "..................................................\n",
            "Digite sua senha: b\n",
            "senha errada | tente novamente\n",
            "..................................................\n",
            "Digite sua senha: c\n",
            "senha errada | tente novamente\n",
            "..................................................\n",
            "Digite sua senha: banana\n",
            "senha ok!\n",
            "ufa, eu sai desse loop doido\n"
          ]
        }
      ],
      "source": [
        "while True:\n",
        "\n",
        "  x = input('Digite sua senha: ')\n",
        "\n",
        "  if x == 'banana':\n",
        "    print('senha ok!')\n",
        "    break\n",
        "\n",
        "  else:\n",
        "      print('senha errada | tente novamente')\n",
        "      print('.'*50)\n",
        "\n",
        "print('ufa, eu sai desse loop doido')"
      ]
    },
    {
      "cell_type": "markdown",
      "metadata": {
        "id": "SaBQnQ7GSWOm"
      },
      "source": [
        "### **BIBLIOTECAS**"
      ]
    },
    {
      "cell_type": "markdown",
      "metadata": {
        "id": "k5Z63_ftSbgN"
      },
      "source": [
        "São caixas com ferramentas especiais"
      ]
    },
    {
      "cell_type": "code",
      "execution_count": null,
      "metadata": {
        "id": "wj0_C0bZU2T_"
      },
      "outputs": [],
      "source": [
        "import pandas as pd"
      ]
    },
    {
      "cell_type": "code",
      "execution_count": null,
      "metadata": {
        "id": "_IM2NMEEVFEf"
      },
      "outputs": [],
      "source": [
        "df = pd.read_csv('apr.txt', header = None)"
      ]
    },
    {
      "cell_type": "code",
      "execution_count": null,
      "metadata": {
        "colab": {
          "base_uri": "https://localhost:8080/"
        },
        "id": "YfCzApwXVMHS",
        "outputId": "69c8d9d3-5aef-42f7-cbf2-fd291c966dd9"
      },
      "outputs": [
        {
          "data": {
            "text/plain": [
              "pandas.core.frame.DataFrame"
            ]
          },
          "execution_count": 303,
          "metadata": {},
          "output_type": "execute_result"
        }
      ],
      "source": [
        "type(df)"
      ]
    },
    {
      "cell_type": "code",
      "execution_count": null,
      "metadata": {
        "id": "Uxyv3QWjVaPb"
      },
      "outputs": [],
      "source": [
        "df['jovi'] = 'a'"
      ]
    },
    {
      "cell_type": "code",
      "execution_count": null,
      "metadata": {
        "colab": {
          "base_uri": "https://localhost:8080/",
          "height": 112
        },
        "id": "VuVCSO0iVi-D",
        "outputId": "699f0f8b-2f24-42e3-a2a1-e28756e0b65c"
      },
      "outputs": [
        {
          "data": {
            "text/html": [
              "\n",
              "  <div id=\"df-dcdb8ae1-b1ff-43ce-a14d-97c0a5739b0d\" class=\"colab-df-container\">\n",
              "    <div>\n",
              "<style scoped>\n",
              "    .dataframe tbody tr th:only-of-type {\n",
              "        vertical-align: middle;\n",
              "    }\n",
              "\n",
              "    .dataframe tbody tr th {\n",
              "        vertical-align: top;\n",
              "    }\n",
              "\n",
              "    .dataframe thead th {\n",
              "        text-align: right;\n",
              "    }\n",
              "</style>\n",
              "<table border=\"1\" class=\"dataframe\">\n",
              "  <thead>\n",
              "    <tr style=\"text-align: right;\">\n",
              "      <th></th>\n",
              "      <th>0</th>\n",
              "      <th>1</th>\n",
              "      <th>jovi</th>\n",
              "    </tr>\n",
              "  </thead>\n",
              "  <tbody>\n",
              "    <tr>\n",
              "      <th>0</th>\n",
              "      <td>joviano</td>\n",
              "      <td>8</td>\n",
              "      <td>a</td>\n",
              "    </tr>\n",
              "    <tr>\n",
              "      <th>1</th>\n",
              "      <td>jose</td>\n",
              "      <td>5</td>\n",
              "      <td>a</td>\n",
              "    </tr>\n",
              "  </tbody>\n",
              "</table>\n",
              "</div>\n",
              "    <div class=\"colab-df-buttons\">\n",
              "\n",
              "  <div class=\"colab-df-container\">\n",
              "    <button class=\"colab-df-convert\" onclick=\"convertToInteractive('df-dcdb8ae1-b1ff-43ce-a14d-97c0a5739b0d')\"\n",
              "            title=\"Convert this dataframe to an interactive table.\"\n",
              "            style=\"display:none;\">\n",
              "\n",
              "  <svg xmlns=\"http://www.w3.org/2000/svg\" height=\"24px\" viewBox=\"0 -960 960 960\">\n",
              "    <path d=\"M120-120v-720h720v720H120Zm60-500h600v-160H180v160Zm220 220h160v-160H400v160Zm0 220h160v-160H400v160ZM180-400h160v-160H180v160Zm440 0h160v-160H620v160ZM180-180h160v-160H180v160Zm440 0h160v-160H620v160Z\"/>\n",
              "  </svg>\n",
              "    </button>\n",
              "\n",
              "  <style>\n",
              "    .colab-df-container {\n",
              "      display:flex;\n",
              "      gap: 12px;\n",
              "    }\n",
              "\n",
              "    .colab-df-convert {\n",
              "      background-color: #E8F0FE;\n",
              "      border: none;\n",
              "      border-radius: 50%;\n",
              "      cursor: pointer;\n",
              "      display: none;\n",
              "      fill: #1967D2;\n",
              "      height: 32px;\n",
              "      padding: 0 0 0 0;\n",
              "      width: 32px;\n",
              "    }\n",
              "\n",
              "    .colab-df-convert:hover {\n",
              "      background-color: #E2EBFA;\n",
              "      box-shadow: 0px 1px 2px rgba(60, 64, 67, 0.3), 0px 1px 3px 1px rgba(60, 64, 67, 0.15);\n",
              "      fill: #174EA6;\n",
              "    }\n",
              "\n",
              "    .colab-df-buttons div {\n",
              "      margin-bottom: 4px;\n",
              "    }\n",
              "\n",
              "    [theme=dark] .colab-df-convert {\n",
              "      background-color: #3B4455;\n",
              "      fill: #D2E3FC;\n",
              "    }\n",
              "\n",
              "    [theme=dark] .colab-df-convert:hover {\n",
              "      background-color: #434B5C;\n",
              "      box-shadow: 0px 1px 3px 1px rgba(0, 0, 0, 0.15);\n",
              "      filter: drop-shadow(0px 1px 2px rgba(0, 0, 0, 0.3));\n",
              "      fill: #FFFFFF;\n",
              "    }\n",
              "  </style>\n",
              "\n",
              "    <script>\n",
              "      const buttonEl =\n",
              "        document.querySelector('#df-dcdb8ae1-b1ff-43ce-a14d-97c0a5739b0d button.colab-df-convert');\n",
              "      buttonEl.style.display =\n",
              "        google.colab.kernel.accessAllowed ? 'block' : 'none';\n",
              "\n",
              "      async function convertToInteractive(key) {\n",
              "        const element = document.querySelector('#df-dcdb8ae1-b1ff-43ce-a14d-97c0a5739b0d');\n",
              "        const dataTable =\n",
              "          await google.colab.kernel.invokeFunction('convertToInteractive',\n",
              "                                                    [key], {});\n",
              "        if (!dataTable) return;\n",
              "\n",
              "        const docLinkHtml = 'Like what you see? Visit the ' +\n",
              "          '<a target=\"_blank\" href=https://colab.research.google.com/notebooks/data_table.ipynb>data table notebook</a>'\n",
              "          + ' to learn more about interactive tables.';\n",
              "        element.innerHTML = '';\n",
              "        dataTable['output_type'] = 'display_data';\n",
              "        await google.colab.output.renderOutput(dataTable, element);\n",
              "        const docLink = document.createElement('div');\n",
              "        docLink.innerHTML = docLinkHtml;\n",
              "        element.appendChild(docLink);\n",
              "      }\n",
              "    </script>\n",
              "  </div>\n",
              "\n",
              "\n",
              "<div id=\"df-a8087e25-c831-4837-9f41-d9e535d32409\">\n",
              "  <button class=\"colab-df-quickchart\" onclick=\"quickchart('df-a8087e25-c831-4837-9f41-d9e535d32409')\"\n",
              "            title=\"Suggest charts.\"\n",
              "            style=\"display:none;\">\n",
              "\n",
              "<svg xmlns=\"http://www.w3.org/2000/svg\" height=\"24px\"viewBox=\"0 0 24 24\"\n",
              "     width=\"24px\">\n",
              "    <g>\n",
              "        <path d=\"M19 3H5c-1.1 0-2 .9-2 2v14c0 1.1.9 2 2 2h14c1.1 0 2-.9 2-2V5c0-1.1-.9-2-2-2zM9 17H7v-7h2v7zm4 0h-2V7h2v10zm4 0h-2v-4h2v4z\"/>\n",
              "    </g>\n",
              "</svg>\n",
              "  </button>\n",
              "\n",
              "<style>\n",
              "  .colab-df-quickchart {\n",
              "      --bg-color: #E8F0FE;\n",
              "      --fill-color: #1967D2;\n",
              "      --hover-bg-color: #E2EBFA;\n",
              "      --hover-fill-color: #174EA6;\n",
              "      --disabled-fill-color: #AAA;\n",
              "      --disabled-bg-color: #DDD;\n",
              "  }\n",
              "\n",
              "  [theme=dark] .colab-df-quickchart {\n",
              "      --bg-color: #3B4455;\n",
              "      --fill-color: #D2E3FC;\n",
              "      --hover-bg-color: #434B5C;\n",
              "      --hover-fill-color: #FFFFFF;\n",
              "      --disabled-bg-color: #3B4455;\n",
              "      --disabled-fill-color: #666;\n",
              "  }\n",
              "\n",
              "  .colab-df-quickchart {\n",
              "    background-color: var(--bg-color);\n",
              "    border: none;\n",
              "    border-radius: 50%;\n",
              "    cursor: pointer;\n",
              "    display: none;\n",
              "    fill: var(--fill-color);\n",
              "    height: 32px;\n",
              "    padding: 0;\n",
              "    width: 32px;\n",
              "  }\n",
              "\n",
              "  .colab-df-quickchart:hover {\n",
              "    background-color: var(--hover-bg-color);\n",
              "    box-shadow: 0 1px 2px rgba(60, 64, 67, 0.3), 0 1px 3px 1px rgba(60, 64, 67, 0.15);\n",
              "    fill: var(--button-hover-fill-color);\n",
              "  }\n",
              "\n",
              "  .colab-df-quickchart-complete:disabled,\n",
              "  .colab-df-quickchart-complete:disabled:hover {\n",
              "    background-color: var(--disabled-bg-color);\n",
              "    fill: var(--disabled-fill-color);\n",
              "    box-shadow: none;\n",
              "  }\n",
              "\n",
              "  .colab-df-spinner {\n",
              "    border: 2px solid var(--fill-color);\n",
              "    border-color: transparent;\n",
              "    border-bottom-color: var(--fill-color);\n",
              "    animation:\n",
              "      spin 1s steps(1) infinite;\n",
              "  }\n",
              "\n",
              "  @keyframes spin {\n",
              "    0% {\n",
              "      border-color: transparent;\n",
              "      border-bottom-color: var(--fill-color);\n",
              "      border-left-color: var(--fill-color);\n",
              "    }\n",
              "    20% {\n",
              "      border-color: transparent;\n",
              "      border-left-color: var(--fill-color);\n",
              "      border-top-color: var(--fill-color);\n",
              "    }\n",
              "    30% {\n",
              "      border-color: transparent;\n",
              "      border-left-color: var(--fill-color);\n",
              "      border-top-color: var(--fill-color);\n",
              "      border-right-color: var(--fill-color);\n",
              "    }\n",
              "    40% {\n",
              "      border-color: transparent;\n",
              "      border-right-color: var(--fill-color);\n",
              "      border-top-color: var(--fill-color);\n",
              "    }\n",
              "    60% {\n",
              "      border-color: transparent;\n",
              "      border-right-color: var(--fill-color);\n",
              "    }\n",
              "    80% {\n",
              "      border-color: transparent;\n",
              "      border-right-color: var(--fill-color);\n",
              "      border-bottom-color: var(--fill-color);\n",
              "    }\n",
              "    90% {\n",
              "      border-color: transparent;\n",
              "      border-bottom-color: var(--fill-color);\n",
              "    }\n",
              "  }\n",
              "</style>\n",
              "\n",
              "  <script>\n",
              "    async function quickchart(key) {\n",
              "      const quickchartButtonEl =\n",
              "        document.querySelector('#' + key + ' button');\n",
              "      quickchartButtonEl.disabled = true;  // To prevent multiple clicks.\n",
              "      quickchartButtonEl.classList.add('colab-df-spinner');\n",
              "      try {\n",
              "        const charts = await google.colab.kernel.invokeFunction(\n",
              "            'suggestCharts', [key], {});\n",
              "      } catch (error) {\n",
              "        console.error('Error during call to suggestCharts:', error);\n",
              "      }\n",
              "      quickchartButtonEl.classList.remove('colab-df-spinner');\n",
              "      quickchartButtonEl.classList.add('colab-df-quickchart-complete');\n",
              "    }\n",
              "    (() => {\n",
              "      let quickchartButtonEl =\n",
              "        document.querySelector('#df-a8087e25-c831-4837-9f41-d9e535d32409 button');\n",
              "      quickchartButtonEl.style.display =\n",
              "        google.colab.kernel.accessAllowed ? 'block' : 'none';\n",
              "    })();\n",
              "  </script>\n",
              "</div>\n",
              "    </div>\n",
              "  </div>\n"
            ],
            "text/plain": [
              "         0  1 jovi\n",
              "0  joviano  8    a\n",
              "1     jose  5    a"
            ]
          },
          "execution_count": 305,
          "metadata": {},
          "output_type": "execute_result"
        }
      ],
      "source": [
        "df"
      ]
    },
    {
      "cell_type": "code",
      "execution_count": null,
      "metadata": {
        "id": "ysivrsLfVj_c"
      },
      "outputs": [],
      "source": []
    }
  ],
  "metadata": {
    "colab": {
      "collapsed_sections": [
        "4j6Xsl7Nc2gc",
        "6Kdrhsh6cvne",
        "E_4J8ys60RE7",
        "r-5g5Tcc_oq1",
        "elbrOwQ_Dz0F"
      ],
      "provenance": []
    },
    "kernelspec": {
      "display_name": "Python 3 (ipykernel)",
      "language": "python",
      "name": "python3"
    },
    "language_info": {
      "codemirror_mode": {
        "name": "ipython",
        "version": 3
      },
      "file_extension": ".py",
      "mimetype": "text/x-python",
      "name": "python",
      "nbconvert_exporter": "python",
      "pygments_lexer": "ipython3",
      "version": "3.9.12"
    }
  },
  "nbformat": 4,
  "nbformat_minor": 0
}