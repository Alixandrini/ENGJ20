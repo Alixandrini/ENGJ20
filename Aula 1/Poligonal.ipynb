{
  "nbformat": 4,
  "nbformat_minor": 0,
  "metadata": {
    "colab": {
      "provenance": []
    },
    "kernelspec": {
      "name": "python3",
      "display_name": "Python 3"
    },
    "language_info": {
      "name": "python"
    }
  },
  "cells": [
    {
      "cell_type": "markdown",
      "source": [
        "# Resolução de Poligonais\n",
        "Neste notebook vamos fazer um programa capaz de resolver uma poligonal topográfica fechada."
      ],
      "metadata": {
        "id": "NHf4d4r2ej55"
      }
    },
    {
      "cell_type": "code",
      "source": [
        "# Passo 0 Dados de entrada\n",
        "\n",
        "Az01= 255.2                                         #Azimute inicial\n",
        "Ang=[246.79028,261.4928,301.75306,148.47528,301.48417]  #Angulos externos a direita medidos\n",
        "D=[100.18,115.80,116.68,91.65,89.06]                #Distancias entre os pontos medidos\n",
        "Coord=[2351.3,6354.2]                               #Coordenadas do ponto inicial\n"
      ],
      "metadata": {
        "id": "7DLOmf99f7vu"
      },
      "execution_count": 21,
      "outputs": []
    },
    {
      "cell_type": "code",
      "source": [
        "# Passo 1 Calculo angular\n",
        "soma=0\n",
        "for item in Ang:                    #Laço de repetição para calcular o somatório dos ângulos\n",
        "    soma=soma+item\n",
        "Eang=soma-(len(Ang)+2)*180          # Calculo do erro angular\n",
        "\n",
        "for item in Ang:                    # Laço de repetição para distribuir as correções angulares\n",
        "  Ang[Ang.index(item)]=item-Eang/len(Ang)\n",
        "print(Ang)                          # Impressão dos ângulos corrigidos"
      ],
      "metadata": {
        "id": "dNolnV51hjO6",
        "colab": {
          "base_uri": "https://localhost:8080/"
        },
        "outputId": "11b90d49-1f80-4d15-9d25-2b4c4240a5e8"
      },
      "execution_count": 22,
      "outputs": [
        {
          "output_type": "stream",
          "name": "stdout",
          "text": [
            "[246.79116199999999, 261.493682, 301.753942, 148.476162, 301.485052]\n"
          ]
        }
      ]
    },
    {
      "cell_type": "code",
      "source": [
        "# Passo 2 Calculo do Azimute\n",
        "Az=[]\n",
        "aux=Az01\n",
        "for item in Ang:                        # Laço de repetição para calcular os azimutes\n",
        "    if aux+item-180<0:                  # Estrutura de decisão para deixar os angulos entre\n",
        "      Az.append(aux+item-180+360)       # os valores de 0-360\n",
        "      aux=aux+item-180+360\n",
        "    elif aux+item-180>360:\n",
        "      Az.append(aux+item-180-360)\n",
        "      aux=aux+item-180-360\n",
        "    else:\n",
        "      Az.append(aux+item-180)\n",
        "      aux=aux+item-180\n",
        "print(Az)\n",
        "# se o azimute final der igual ao azimute inicial está certo!"
      ],
      "metadata": {
        "colab": {
          "base_uri": "https://localhost:8080/"
        },
        "id": "35c1jaTappT8",
        "outputId": "0c513a0b-468f-4cc2-e4e6-d00c4d20db27"
      },
      "execution_count": 23,
      "outputs": [
        {
          "output_type": "stream",
          "name": "stdout",
          "text": [
            "[321.991162, 43.48484399999995, 165.23878599999995, 133.71494799999994, 255.19999999999993]\n"
          ]
        }
      ]
    },
    {
      "cell_type": "code",
      "source": [
        "# Passo 3 Calculo das Coordenadas"
      ],
      "metadata": {
        "id": "PDgxpY16fg3B"
      },
      "execution_count": null,
      "outputs": []
    },
    {
      "cell_type": "code",
      "source": [
        "# Passo 4 Calculo das Coordenadas corrigidas"
      ],
      "metadata": {
        "id": "AD8kIXWKfg_t"
      },
      "execution_count": null,
      "outputs": []
    },
    {
      "cell_type": "code",
      "source": [
        "# Passo 5 Apresentação do Resultado"
      ],
      "metadata": {
        "id": "1iUk86eufu8q"
      },
      "execution_count": null,
      "outputs": []
    }
  ]
}