{
  "nbformat": 4,
  "nbformat_minor": 0,
  "metadata": {
    "colab": {
      "provenance": []
    },
    "kernelspec": {
      "name": "python3",
      "display_name": "Python 3"
    },
    "language_info": {
      "name": "python"
    }
  },
  "cells": [
    {
      "cell_type": "markdown",
      "source": [
        "# Resolução de Poligonais\n",
        "Neste notebook vamos fazer um programa capaz de resolver uma poligonal topográfica fechada."
      ],
      "metadata": {
        "id": "NHf4d4r2ej55"
      }
    },
    {
      "cell_type": "code",
      "source": [
        "# Passo 0 Dados de entrada\n",
        "\n",
        "Az01= 255.2                           #Azimute inicial\n",
        "Ang=[246.79028,261.4928,301.75306,148.47528,301.48417]  #Angulos externos a direita medidos\n",
        "D=[100.18,115.80,116.68,91.65,89.06]                #Distancias entre os pontos medidos\n",
        "Coord=[0,0]                 #Coordenadas do ponto inicial\n"
      ],
      "metadata": {
        "id": "7DLOmf99f7vu"
      },
      "execution_count": 43,
      "outputs": []
    },
    {
      "cell_type": "code",
      "source": [
        "# Passo 1 Calculo angular\n",
        "soma=0\n",
        "for item in Ang:                    #Laço de repetição para calcular o somatório dos ângulos\n",
        "    soma=soma+item\n",
        "Eang=soma-(len(Ang)+2)*180          # Calculo do erro angular\n",
        "\n",
        "for item in Ang:                    # Laço de repetição para distribuir as correções angulares\n",
        "  Ang[Ang.index(item)]=item-Eang/len(Ang)\n",
        "print(Ang)\n",
        "import numpy as np\n",
        "Ang1=np.array(Ang)\n",
        "print(np.around(Ang1,3))                      # Impressão dos ângulos corrigidos"
      ],
      "metadata": {
        "id": "dNolnV51hjO6",
        "colab": {
          "base_uri": "https://localhost:8080/"
        },
        "outputId": "de0946e4-6e2c-498f-b955-3a901a24552a"
      },
      "execution_count": 44,
      "outputs": [
        {
          "output_type": "stream",
          "name": "stdout",
          "text": [
            "[246.79116199999999, 261.493682, 301.753942, 148.476162, 301.485052]\n",
            "[246.791 261.494 301.754 148.476 301.485]\n"
          ]
        }
      ]
    },
    {
      "cell_type": "code",
      "source": [
        "# Passo 2 Calculo do Azimute\n",
        "Az=[Az01]\n",
        "aux=Az01\n",
        "for item in Ang:                        # Laço de repetição para calcular os azimutes\n",
        "    if aux+item-180<0:                  # Estrutura de decisão para deixar os angulos entre\n",
        "      Az.append(aux+item-180+360)       # os valores de 0-360\n",
        "      aux=aux+item-180+360\n",
        "    elif aux+item-180>360:\n",
        "      Az.append(aux+item-180-360)\n",
        "      aux=aux+item-180-360\n",
        "    else:\n",
        "      Az.append(aux+item-180)\n",
        "      aux=aux+item-180\n",
        "Az.pop(-1)  # remove o ultimo Azimute da lista\n",
        "print(Az)\n",
        "# se o azimute final der igual ao azimute inicial está certo!"
      ],
      "metadata": {
        "colab": {
          "base_uri": "https://localhost:8080/"
        },
        "id": "35c1jaTappT8",
        "outputId": "eac4c4ed-afa2-438e-b0d9-81cb1916b091"
      },
      "execution_count": 45,
      "outputs": [
        {
          "output_type": "stream",
          "name": "stdout",
          "text": [
            "[255.2, 321.991162, 43.48484399999995, 165.23878599999995, 133.71494799999994]\n"
          ]
        }
      ]
    },
    {
      "cell_type": "code",
      "source": [
        "# Passo 3 Calculo das Coordenadas"
      ],
      "metadata": {
        "id": "PDgxpY16fg3B"
      },
      "execution_count": 46,
      "outputs": []
    },
    {
      "cell_type": "code",
      "source": [
        "import math\n",
        "def calcular_coordenadas(azimutes, distancias,Coord):\n",
        "    coordenadas = [(Coord[0],Coord[1])]  # Coordenadas do ponto inicial\n",
        "    azimutes = [math.radians(a) for a in azimutes]  # Converte os azimutes para radianos\n",
        "    for i in range(len(distancias)):\n",
        "        x = coordenadas[i][0] + distancias[i] * math.sin(azimutes[i])\n",
        "        y = coordenadas[i][1] + distancias[i] * math.cos(azimutes[i])\n",
        "        coordenadas.append((x, y))\n",
        "    return coordenadas\n",
        "coordenadas=calcular_coordenadas(Az,D,Coord)\n",
        "Dx=coordenadas[len(coordenadas)-1][0]-coordenadas[0][0]\n",
        "Dy=coordenadas[len(coordenadas)-1][1]-coordenadas[0][1]\n",
        "print(Dx,Dy)"
      ],
      "metadata": {
        "colab": {
          "base_uri": "https://localhost:8080/"
        },
        "id": "kqnaFnrFgfm-",
        "outputId": "2e7a3dda-3d1b-4cef-c5c9-cc5cedcc2913"
      },
      "execution_count": 47,
      "outputs": [
        {
          "output_type": "stream",
          "name": "stdout",
          "text": [
            "-0.14620603806500299 0.13604009518853388\n"
          ]
        }
      ]
    },
    {
      "cell_type": "code",
      "source": [
        "print(coordenadas[-1][0])\n",
        "print(coordenadas)"
      ],
      "metadata": {
        "colab": {
          "base_uri": "https://localhost:8080/"
        },
        "id": "ERIHi2a-e1Rg",
        "outputId": "ec869161-61f1-43e2-a22a-a2f92d1adff6"
      },
      "execution_count": 48,
      "outputs": [
        {
          "output_type": "stream",
          "name": "stdout",
          "text": [
            "-0.14620603806500299\n",
            "[(0, 0), (-96.85636707039475, -25.590556030007505), (-168.16404083185097, 65.6500909576686), (-87.86922002249602, 150.30801528370898), (-64.51760519148063, 61.68282369134117), (-0.14620603806500299, 0.13604009518853388)]\n"
          ]
        }
      ]
    },
    {
      "cell_type": "code",
      "source": [
        "# Passo 4 Calculo das Coordenadas corrigidas"
      ],
      "metadata": {
        "id": "AD8kIXWKfg_t"
      },
      "execution_count": 49,
      "outputs": []
    },
    {
      "cell_type": "code",
      "source": [
        "distTot=0\n",
        "for item in D:\n",
        "    distTot=distTot+item\n",
        "print(distTot)\n",
        "def calcular_coordenadas(azimutes, distancias,Coord):\n",
        "    coordenadas = [(Coord[0],Coord[1])]  # Coordenadas do ponto inicial\n",
        "    azimutes = [math.radians(a) for a in azimutes]  # Converte os azimutes para radianos\n",
        "    for i in range(len(distancias)):\n",
        "        x = coordenadas[i][0] + distancias[i] * math.sin(azimutes[i])-(Dx*distancias[i]/distTot)\n",
        "        y = coordenadas[i][1] + distancias[i] * math.cos(azimutes[i])-(Dy*distancias[i]/distTot)\n",
        "        coordenadas.append((x, y))\n",
        "    return coordenadas\n",
        "coordenadas=calcular_coordenadas(Az,D,Coord)\n",
        "Dx=coordenadas[len(coordenadas)-1][0]-coordenadas[0][0]\n",
        "Dy=coordenadas[len(coordenadas)-1][1]-coordenadas[0][1]\n",
        "print(Dx,Dy)"
      ],
      "metadata": {
        "colab": {
          "base_uri": "https://localhost:8080/"
        },
        "id": "nlChpg8clEe_",
        "outputId": "f45d71fa-c93b-47d8-ad95-bb0995330b0f"
      },
      "execution_count": 50,
      "outputs": [
        {
          "output_type": "stream",
          "name": "stdout",
          "text": [
            "513.3700000000001\n",
            "-6.331740687315346e-15 -1.0717121634584714e-14\n"
          ]
        }
      ]
    },
    {
      "cell_type": "code",
      "source": [
        "# Passo 5 Apresentação do Resultado"
      ],
      "metadata": {
        "id": "1iUk86eufu8q"
      },
      "execution_count": 51,
      "outputs": []
    },
    {
      "cell_type": "code",
      "source": [
        "import matplotlib.pyplot as plt\n",
        "\n",
        "x = [c[0] for c in coordenadas]\n",
        "y = [c[1] for c in coordenadas]\n",
        "\n",
        "plt.plot(x, y, '-o')\n",
        "plt.xlabel(\"X\")\n",
        "plt.ylabel(\"Y\")\n",
        "plt.title(\"Poligonal Fechada\")\n",
        "plt.grid(True)\n",
        "plt.show()"
      ],
      "metadata": {
        "colab": {
          "base_uri": "https://localhost:8080/",
          "height": 472
        },
        "id": "SvR5-LiWhNpL",
        "outputId": "cad97d14-1965-4c6f-cacf-7faa403441a5"
      },
      "execution_count": 52,
      "outputs": [
        {
          "output_type": "display_data",
          "data": {
            "text/plain": [
              "<Figure size 640x480 with 1 Axes>"
            ],
            "image/png": "[encoded data removed]"
          },
          "metadata": {}
        }
      ]
    },
    {
      "cell_type": "code",
      "source": [
        "print(coordenadas)"
      ],
      "metadata": {
        "colab": {
          "base_uri": "https://localhost:8080/"
        },
        "id": "Wbf3T12DhrEo",
        "outputId": "b95f1995-2267-4849-a7b2-d84af1cd7c61"
      },
      "execution_count": 53,
      "outputs": [
        {
          "output_type": "stream",
          "name": "stdout",
          "text": [
            "[(0, 0), (-96.8278361455387, -25.617103153399967), (-168.10253045901797, 65.59285750078794), (-87.77447958066517, 150.21986229840516), (-64.39676313991673, 61.57038398354864), (-6.331740687315346e-15, -1.0717121634584714e-14)]\n"
          ]
        }
      ]
    }
  ]
}