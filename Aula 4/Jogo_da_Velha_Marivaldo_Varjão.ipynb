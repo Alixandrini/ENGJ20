{
  "nbformat": 4,
  "nbformat_minor": 0,
  "metadata": {
    "colab": {
      "provenance": []
    },
    "kernelspec": {
      "name": "python3",
      "display_name": "Python 3"
    },
    "language_info": {
      "name": "python"
    }
  },
  "cells": [
    {
      "cell_type": "code",
      "source": [
        "tabuleiro =  {'7': ' ' , '8': ' ' , '9': ' ',\n",
        "                '4': ' ' , '5': ' ' , '6': ' ',\n",
        "                '1': ' ' , '2': ' ' , '3': ' '}\n",
        "\n",
        "def exibirTabuleiro():\n",
        "    print(\"┌───┬───┬───┐\")\n",
        "    print(f\"│ {tabuleiro['7']} │ {tabuleiro['8']} │ {tabuleiro['9']} │\")\n",
        "    print(\"├───┼───┼───┤\")\n",
        "    print(f\"│ {tabuleiro['4']} │ {tabuleiro['5']} │ {tabuleiro['6']} │\")\n",
        "    print(\"├───┼───┼───┤\")\n",
        "    print(f\"│ {tabuleiro['1']} │ {tabuleiro['2']} │ {tabuleiro['3']} │\")\n",
        "    print(\"└───┴───┴───┘\")\n",
        "\n",
        "def verificar():\n",
        "    if tabuleiro['1']==tabuleiro['2']==tabuleiro['3']=='X':\n",
        "        print('Jogador 1 venceu!')\n",
        "    elif tabuleiro['4']==tabuleiro['5']==tabuleiro['6']=='X':\n",
        "        print('Jogador 1 venceu!')\n",
        "    elif tabuleiro['7']==tabuleiro['8']==tabuleiro['9']=='X':\n",
        "        print('Jogador 1 venceu!')\n",
        "    elif tabuleiro['1']==tabuleiro['4']==tabuleiro['7']=='X':\n",
        "        print('Jogador 1 venceu!')\n",
        "    elif tabuleiro['2']==tabuleiro['5']==tabuleiro['8']=='X':\n",
        "        print('Jogador 1 venceu!')\n",
        "    elif tabuleiro['3']==tabuleiro['6']==tabuleiro['9']=='X':\n",
        "        print('Jogador 1 venceu!')\n",
        "    elif tabuleiro['1']==tabuleiro['5']==tabuleiro['9']=='X':\n",
        "        print('Jogador 1 venceu!')\n",
        "    elif tabuleiro['3']==tabuleiro['5']==tabuleiro['7']=='X':\n",
        "        print('Jogador 1 venceu!')\n",
        "\n",
        "    if tabuleiro['1']==tabuleiro['2']==tabuleiro['3']=='O':\n",
        "        print('Jogador 2 venceu!')\n",
        "    elif tabuleiro['4']==tabuleiro['5']==tabuleiro['6']=='O':\n",
        "        print('Jogador 2 venceu!')\n",
        "    elif tabuleiro['7']==tabuleiro['8']==tabuleiro['9']=='O':\n",
        "        print('Jogador 2 venceu!')\n",
        "    elif tabuleiro['1']==tabuleiro['4']==tabuleiro['7']=='O':\n",
        "        print('Jogador 2 venceu!')\n",
        "    elif tabuleiro['2']==tabuleiro['5']==tabuleiro['8']=='O':\n",
        "        print('Jogador 2 venceu!')\n",
        "    elif tabuleiro['3']==tabuleiro['6']==tabuleiro['9']=='O':\n",
        "        print('Jogador 2 venceu!')\n",
        "    elif tabuleiro['1']==tabuleiro['5']==tabuleiro['9']=='O':\n",
        "        print('Jogador 2 venceu!')\n",
        "    elif tabuleiro['3']==tabuleiro['5']==tabuleiro['7']=='O':\n",
        "        print('Jogador 2 venceu!')"
      ],
      "metadata": {
        "id": "akhFQkD8x5mA"
      },
      "execution_count": 1,
      "outputs": []
    },
    {
      "cell_type": "code",
      "source": [
        "#Boas vindas inicio de jogo\n",
        "print('Bem vindo ao Jogo da Velha!')\n",
        "# primeira jogada\n",
        "J1=input('Jogador1, escolha uma posição no tabuleiro:')\n",
        "tabuleiro[J1]='X'\n",
        "exibirTabuleiro()\n",
        "verificar()\n",
        "# segunda jogada\n",
        "J2=input('Jogador2, escolha uma posição no tabuleiro:')\n",
        "tabuleiro[J2]='O'\n",
        "exibirTabuleiro()\n",
        "verificar()"
      ],
      "metadata": {
        "colab": {
          "base_uri": "https://localhost:8080/"
        },
        "id": "Iuk4T_r3x_WX",
        "outputId": "5a199940-84e8-475f-f1f1-90f9b0ee65ff"
      },
      "execution_count": 2,
      "outputs": [
        {
          "output_type": "stream",
          "name": "stdout",
          "text": [
            "Bem vindo ao Jogo da Velha!\n",
            "Jogador1, escolha uma posição no tabuleiro:4\n",
            "┌───┬───┬───┐\n",
            "│   │   │   │\n",
            "├───┼───┼───┤\n",
            "│ X │   │   │\n",
            "├───┼───┼───┤\n",
            "│   │   │   │\n",
            "└───┴───┴───┘\n",
            "Jogador2, escolha uma posição no tabuleiro:5\n",
            "┌───┬───┬───┐\n",
            "│   │   │   │\n",
            "├───┼───┼───┤\n",
            "│ X │ O │   │\n",
            "├───┼───┼───┤\n",
            "│   │   │   │\n",
            "└───┴───┴───┘\n"
          ]
        }
      ]
    },
    {
      "cell_type": "code",
      "source": [
        "# terceira jogada\n",
        "J1=input('Jogador1, escolha uma posiçaõ no tabuleiro:')\n",
        "tabuleiro[J1]='X'\n",
        "exibirTabuleiro()\n",
        "# quarta jogada\n",
        "J2=input('Jogador2, escolha uma posiçaõ no tabuleiro:')\n",
        "tabuleiro[J2]='O'\n",
        "exibirTabuleiro()"
      ],
      "metadata": {
        "colab": {
          "base_uri": "https://localhost:8080/"
        },
        "id": "y9MW579TyBn_",
        "outputId": "05848992-f2df-45e7-a719-2ff9e30a6150"
      },
      "execution_count": 3,
      "outputs": [
        {
          "output_type": "stream",
          "name": "stdout",
          "text": [
            "Jogador1, escolha uma posiçaõ no tabuleiro:3\n",
            "┌───┬───┬───┐\n",
            "│   │   │   │\n",
            "├───┼───┼───┤\n",
            "│ X │ O │   │\n",
            "├───┼───┼───┤\n",
            "│   │   │ X │\n",
            "└───┴───┴───┘\n",
            "Jogador2, escolha uma posiçaõ no tabuleiro:2\n",
            "┌───┬───┬───┐\n",
            "│   │   │   │\n",
            "├───┼───┼───┤\n",
            "│ X │ O │   │\n",
            "├───┼───┼───┤\n",
            "│   │ O │ X │\n",
            "└───┴───┴───┘\n"
          ]
        }
      ]
    },
    {
      "cell_type": "code",
      "source": [
        "# quinta jogada\n",
        "J1=input('Jogador1, escolha uma posiçaõ no tabuleiro:')\n",
        "tabuleiro[J1]='X'\n",
        "exibirTabuleiro()\n",
        "verificar()\n",
        "# sexta jogada\n",
        "J2=input('Jogador2, escolha uma posiçaõ no tabuleiro:')\n",
        "tabuleiro[J2]='O'\n",
        "exibirTabuleiro()\n",
        "verificar()"
      ],
      "metadata": {
        "colab": {
          "base_uri": "https://localhost:8080/"
        },
        "id": "otYu0evTyDef",
        "outputId": "138202cf-aa88-47c1-bc09-bb35f0fe0509"
      },
      "execution_count": 4,
      "outputs": [
        {
          "output_type": "stream",
          "name": "stdout",
          "text": [
            "Jogador1, escolha uma posiçaõ no tabuleiro:1\n",
            "┌───┬───┬───┐\n",
            "│   │   │   │\n",
            "├───┼───┼───┤\n",
            "│ X │ O │   │\n",
            "├───┼───┼───┤\n",
            "│ X │ O │ X │\n",
            "└───┴───┴───┘\n",
            "Jogador2, escolha uma posiçaõ no tabuleiro:8\n",
            "┌───┬───┬───┐\n",
            "│   │ O │   │\n",
            "├───┼───┼───┤\n",
            "│ X │ O │   │\n",
            "├───┼───┼───┤\n",
            "│ X │ O │ X │\n",
            "└───┴───┴───┘\n",
            "Jogador 2 venceu!\n"
          ]
        }
      ]
    },
    {
      "cell_type": "code",
      "source": [
        "# sétima jogada\n",
        "J1=input('Jogador1, escolha uma posiçaõ no tabuleiro:')\n",
        "tabuleiro[J1]='X'\n",
        "exibirTabuleiro()\n",
        "verificar()\n",
        "# oitava jogada\n",
        "J2=input('Jogador2, escolha uma posiçaõ no tabuleiro:')\n",
        "tabuleiro[J2]='O'\n",
        "exibirTabuleiro()\n",
        "verificar()"
      ],
      "metadata": {
        "id": "hoPOHi6TyFZX"
      },
      "execution_count": null,
      "outputs": []
    },
    {
      "cell_type": "code",
      "source": [
        "# nona jogada\n",
        "J1=input('Jogador1, escolha uma posiçaõ no tabuleiro:')\n",
        "tabuleiro[J1]='X'\n",
        "exibirTabuleiro()\n",
        "verificar()\n",
        "print('Deu Velha!!!')"
      ],
      "metadata": {
        "id": "HfcjFOT2yIVw"
      },
      "execution_count": null,
      "outputs": []
    }
  ]
}