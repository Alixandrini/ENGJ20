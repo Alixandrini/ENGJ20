{
  "nbformat": 4,
  "nbformat_minor": 0,
  "metadata": {
    "colab": {
      "provenance": []
    },
    "kernelspec": {
      "name": "python3",
      "display_name": "Python 3"
    },
    "language_info": {
      "name": "python"
    }
  },
  "cells": [
    {
      "cell_type": "code",
      "execution_count": null,
      "metadata": {
        "id": "_GP3_oeE_sKj"
      },
      "outputs": [],
      "source": [
        "Lab={'Acessorios':['trena','trena Laser','tripé','bastão','bipé'],'GNSS':['L1','L1/L2','RTK','RTX'],'Estação Total':['TopconGTS102','RuideRTS822','Trimblec3']}\n",
        "indice= list(Lab.keys())"
      ]
    },
    {
      "cell_type": "code",
      "source": [
        "#funções auxiliares\n",
        "#imprime uma lista de opções\n",
        "def impr_opc(lista):\n",
        "  n=1\n",
        "  for item in lista:\n",
        "    print('(',n,')',item)\n",
        "    n+=1"
      ],
      "metadata": {
        "id": "_IpfiB8JAWhW"
      },
      "execution_count": null,
      "outputs": []
    },
    {
      "cell_type": "code",
      "source": [
        "#impr_opc(Lab[indice[2]])\n",
        "from IPython.display import clear_output\n",
        "print('Boa noite! Você deseja selecionar os equipamentos para sua viajem de campo.')\n",
        "print('Seja bem vindo ao nosso sistema!')\n",
        "escolha=escolha1=100\n",
        "Lista_campo=[]\n",
        "while escolha!='0':\n",
        "  print('Selecione uma opção da lista:')\n",
        "  print('( 0 ) para sair')\n",
        "  impr_opc(indice)\n",
        "  escolha=input('digite o numero da sua opção:')\n",
        "  if escolha != '0':\n",
        "    print('Selecione uma opção da lista:')\n",
        "    impr_opc(Lab[indice[int(escolha)-1]])\n",
        "    escolha1=input('digite o numero da sua opção:')\n",
        "    qtd=input('Selecione a quantidade: ')\n",
        "    Lista_campo.append([indice[int(escolha)-1],Lab[indice[int(escolha)-1]][int(escolha1)-1],int(qtd)])\n",
        "    clear_output()\n",
        "  else:\n",
        "    clear_output()\n",
        "    print('Sua lista foi essa : ')\n",
        "    print('----------------')\n",
        "    print('qtd | item')\n",
        "    print('----------------')\n",
        "    for item in Lista_campo:\n",
        "      print(item[2],'  |',item[1])\n",
        "      print('----------------')\n"
      ],
      "metadata": {
        "colab": {
          "base_uri": "https://localhost:8080/"
        },
        "id": "dGmZc4OEE0_y",
        "outputId": "fd245d9f-8d62-4eeb-d4d1-4e1465d2290f"
      },
      "execution_count": null,
      "outputs": [
        {
          "output_type": "stream",
          "name": "stdout",
          "text": [
            "Sua lista foi essa : \n",
            "qtd | item\n",
            "----------------\n",
            "2 | bastão\n",
            "----------------\n",
            "0 | RTX\n",
            "----------------\n"
          ]
        }
      ]
    },
    {
      "cell_type": "code",
      "source": [
        "\n"
      ],
      "metadata": {
        "colab": {
          "base_uri": "https://localhost:8080/"
        },
        "id": "GvBssGYfL2YW",
        "outputId": "a721b6b4-0bdb-46d5-8792-ab68ec300c9e"
      },
      "execution_count": null,
      "outputs": [
        {
          "output_type": "stream",
          "name": "stdout",
          "text": [
            "{'Acessorios': 'trena', 'GNSS': 'RTX', 'Estação Total': 'Trimblec3'}\n"
          ]
        }
      ]
    }
  ]
}